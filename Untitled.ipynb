{
 "cells": [
  {
   "cell_type": "code",
   "execution_count": 3,
   "id": "other-freeware",
   "metadata": {},
   "outputs": [
    {
     "ename": "ImportError",
     "evalue": "cannot import name 'Tree' from 'gen' (/home/shong/.local/lib/python3.8/site-packages/gen/__init__.py)",
     "output_type": "error",
     "traceback": [
      "\u001b[0;31m---------------------------------------------------------------------------\u001b[0m",
      "\u001b[0;31mImportError\u001b[0m                               Traceback (most recent call last)",
      "\u001b[0;32m<ipython-input-3-b526841060a9>\u001b[0m in \u001b[0;36m<module>\u001b[0;34m\u001b[0m\n\u001b[0;32m----> 1\u001b[0;31m \u001b[0;32mfrom\u001b[0m \u001b[0mgen\u001b[0m \u001b[0;32mimport\u001b[0m \u001b[0mTree\u001b[0m\u001b[0;34m\u001b[0m\u001b[0;34m\u001b[0m\u001b[0m\n\u001b[0m\u001b[1;32m      2\u001b[0m \u001b[0;32mfrom\u001b[0m \u001b[0mdemo_trees\u001b[0m \u001b[0;32mimport\u001b[0m \u001b[0mtrees\u001b[0m\u001b[0;34m\u001b[0m\u001b[0;34m\u001b[0m\u001b[0m\n\u001b[1;32m      3\u001b[0m \u001b[0;32mimport\u001b[0m \u001b[0mreingold_thread\u001b[0m\u001b[0;34m;\u001b[0m \u001b[0mreload\u001b[0m\u001b[0;34m(\u001b[0m\u001b[0mreingold_thread\u001b[0m\u001b[0;34m)\u001b[0m\u001b[0;34m\u001b[0m\u001b[0;34m\u001b[0m\u001b[0m\n\u001b[1;32m      4\u001b[0m \u001b[0;32mfrom\u001b[0m \u001b[0mreingold_thread\u001b[0m \u001b[0;32mimport\u001b[0m \u001b[0mreingold_tilford\u001b[0m \u001b[0;32mas\u001b[0m \u001b[0mrt\u001b[0m\u001b[0;34m\u001b[0m\u001b[0;34m\u001b[0m\u001b[0m\n\u001b[1;32m      5\u001b[0m \u001b[0;31m#from reingold_naive import reingold_tilford as rt\u001b[0m\u001b[0;34m\u001b[0m\u001b[0;34m\u001b[0m\u001b[0;34m\u001b[0m\u001b[0m\n",
      "\u001b[0;31mImportError\u001b[0m: cannot import name 'Tree' from 'gen' (/home/shong/.local/lib/python3.8/site-packages/gen/__init__.py)"
     ]
    }
   ],
   "source": [
    "from gen import Tree\n",
    "from demo_trees import trees\n",
    "import reingold_thread; reload(reingold_thread)\n",
    "from reingold_thread import reingold_tilford as rt\n",
    "#from reingold_naive import reingold_tilford as rt\n",
    "from buchheim import buchheim\n",
    "\n",
    "#print trees[5][0]\n",
    "t = buchheim(trees[5])\n",
    "#t = rt(trees[5])\n",
    "\n",
    "r = 30\n",
    "rh = r*1.5\n",
    "rw = r*1.5\n",
    "stroke(0)\n",
    "\n",
    "def drawt(root, depth):\n",
    "    global r\n",
    "    oval(root.x * rw, depth * rh, r, r)\n",
    "    for child in root.children:\n",
    "        drawt(child, depth+1)\n",
    "\n",
    "def drawconn(root, depth):\n",
    "    for child in root.children:\n",
    "        line(root.x * rw + (r/2), depth * rh + (r/2),\n",
    "             child.x * rw + (r/2), (depth+1) * rh + (r/2))\n",
    "        drawconn(child, depth+1)\n",
    "\n",
    "def sign(x):\n",
    "    if x == 0: return 0\n",
    "    if x > 0:  return 1\n",
    "    else:      return -1\n",
    "\n",
    "from math import atan, sin, cos, pi\n",
    "def dottedline(x1, y1, x2, y2):\n",
    "    segment = 5\n",
    "    if x2 - x1 > 0:\n",
    "        theta = atan(float(y2-y1)/float(x2-x1))\n",
    "    else:\n",
    "        theta = pi + atan(float(y2-y1)/float(x2-x1))\n",
    "    \n",
    "    dx = cos(theta) * segment\n",
    "    dy = sin(theta) * segment\n",
    "    xdir = x1 < x2\n",
    "    ydir = y1 < y2\n",
    "    \n",
    "    while 1:\n",
    "        if xdir != (x1 < x2) or ydir != (y1 < y2): break\n",
    "        line(x1, y1, x1+dx, y1+dy)\n",
    "        x1, y1 = x1+2*dx, y1+2*dy\n",
    "\n",
    "def drawthreads(root, depth):\n",
    "    for child in root.children:\n",
    "        c = child.thread\n",
    "        if c:\n",
    "            dottedline(child.x * rw + (r/2), (depth+1) * rh + (r/2),\n",
    "                       c.x * rw + (r/2), (depth+2) * rh + (r/2))\n",
    "        drawthreads(child, depth+1)\n",
    "\n",
    "size(500, 500)\n",
    "translate(2, 2)\n",
    "drawconn(t, 0)\n",
    "stroke(0,.4,.6)\n",
    "drawthreads(t, 0)\n",
    "stroke(0)\n",
    "fill(1,1,1)\n",
    "drawt(t, 0)"
   ]
  },
  {
   "cell_type": "code",
   "execution_count": 7,
   "id": "numerous-desire",
   "metadata": {},
   "outputs": [
    {
     "data": {
      "text/plain": [
       "2"
      ]
     },
     "execution_count": 7,
     "metadata": {},
     "output_type": "execute_result"
    }
   ],
   "source": [
    "import statistics\n",
    "a = [1,2,3]\n",
    "statistics.mean(a)"
   ]
  },
  {
   "cell_type": "code",
   "execution_count": 8,
   "id": "special-beginning",
   "metadata": {},
   "outputs": [],
   "source": [
    "class aa(object):\n",
    "    \n",
    "    def __init__(self,a):\n",
    "        self.a = a"
   ]
  },
  {
   "cell_type": "code",
   "execution_count": 10,
   "id": "color-incentive",
   "metadata": {},
   "outputs": [
    {
     "name": "stdout",
     "output_type": "stream",
     "text": [
      "1\n"
     ]
    }
   ],
   "source": [
    "x = aa(1)\n",
    "y = aa(2)\n",
    "z = aa(3)\n",
    "\n",
    "aa_list = [x,y,z]\n",
    "ind = aa_list.index(y)\n",
    "print(ind)"
   ]
  },
  {
   "cell_type": "code",
   "execution_count": null,
   "id": "listed-harvest",
   "metadata": {},
   "outputs": [],
   "source": []
  }
 ],
 "metadata": {
  "kernelspec": {
   "display_name": "Python 3",
   "language": "python",
   "name": "python3"
  },
  "language_info": {
   "codemirror_mode": {
    "name": "ipython",
    "version": 3
   },
   "file_extension": ".py",
   "mimetype": "text/x-python",
   "name": "python",
   "nbconvert_exporter": "python",
   "pygments_lexer": "ipython3",
   "version": "3.8.5"
  }
 },
 "nbformat": 4,
 "nbformat_minor": 5
}
